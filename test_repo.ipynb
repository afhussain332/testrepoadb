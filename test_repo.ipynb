{
 "cells": [
  {
   "cell_type": "code",
   "execution_count": 0,
   "metadata": {
    "application/vnd.databricks.v1+cell": {
     "cellMetadata": {
      "byteLimit": 2048000,
      "rowLimit": 10000
     },
     "inputWidgets": {},
     "nuid": "9098ad6a-9e6f-444f-92d5-fa88e1c37411",
     "showTitle": false,
     "title": ""
    }
   },
   "outputs": [
    {
     "output_type": "stream",
     "name": "stdout",
     "output_type": "stream",
     "text": [
      "BUILD\nBUILDINFO\nDBR_VERSION\nairbyte\nchauffeur\nchauffeur-jars\ncommon\nconda\nconf_reader_version.bzl\ndata\ndatabricks-hive\ndevbricks\ndriver\nexecutor\nglue\nhadoop-safety-jars\nhive\ninit_scripts\njars\njdkpatch\nkernel-connections\nkeys\nlicenses\nminiconda\nnative\npatches\npython\npython-bootstrap\npython-lsp\npython3\npython_shell\nsafespark\nsafespark-daemon\nscala-kernel-jars\nspark\n"
     ]
    }
   ],
   "source": [
    "%sh\n",
    "ls /databricks"
   ]
  }
 ],
 "metadata": {
  "application/vnd.databricks.v1+notebook": {
   "dashboards": [],
   "environmentMetadata": null,
   "language": "python",
   "notebookMetadata": {
    "mostRecentlyExecutedCommandWithImplicitDF": {
     "commandId": 776419134175016,
     "dataframes": [
      "_sqldf"
     ]
    },
    "pythonIndentUnit": 4
   },
   "notebookName": "test_repo2023-08-07 16:47:58",
   "widgets": {}
  }
 },
 "nbformat": 4,
 "nbformat_minor": 0
}
